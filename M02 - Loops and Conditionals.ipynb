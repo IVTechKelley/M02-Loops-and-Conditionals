{
 "cells": [
  {
   "cell_type": "markdown",
   "id": "6f6afe72",
   "metadata": {},
   "source": [
    "4.1 Choose a number between 1 and 10 and assign it to the variable secret. Then, select another number between 1 and 10 and assign it to the variable guess. Next, write the conditional tests (if, else, and elif) to print the string 'too low' if guess is less than secret, 'too high' if greater than secret, and 'just right' if equal to secret."
   ]
  },
  {
   "cell_type": "code",
   "execution_count": 1,
   "id": "50ecfc8d",
   "metadata": {},
   "outputs": [
    {
     "name": "stdout",
     "output_type": "stream",
     "text": [
      "Too Low\n"
     ]
    }
   ],
   "source": [
    "secret = 7\n",
    "guess = 4\n",
    "\n",
    "if guess < secret:\n",
    "    print(\"Too Low\")\n",
    "elif guess > secret:\n",
    "    print(\"Too High\")\n",
    "else:\n",
    "    print(\"Just Right\")"
   ]
  },
  {
   "cell_type": "markdown",
   "id": "7235d604",
   "metadata": {},
   "source": [
    "4.2 Assign True or False to the variables small and green. Write some if/else statements to print which of these matches those choices: cherry, pea, watermelon, pumpkin."
   ]
  },
  {
   "cell_type": "code",
   "execution_count": 2,
   "id": "6616753a",
   "metadata": {},
   "outputs": [
    {
     "name": "stdout",
     "output_type": "stream",
     "text": [
      "That's a pumpkin!\n"
     ]
    }
   ],
   "source": [
    "green = False\n",
    "small = False\n",
    "\n",
    "if small and green:\n",
    "    print(\"That's a pea!\")\n",
    "elif small and not green:\n",
    "    print(\"That's a cherry!\")\n",
    "elif not small and green:\n",
    "    print(\"That's a watermelon!\")\n",
    "else:\n",
    "    print(\"That's a pumpkin!\")"
   ]
  },
  {
   "cell_type": "markdown",
   "id": "b33c28b4",
   "metadata": {},
   "source": [
    "6.1 Use a for loop to print the values of the list [3, 2, 1, 0]."
   ]
  },
  {
   "cell_type": "code",
   "execution_count": 3,
   "id": "d6e584ca",
   "metadata": {},
   "outputs": [
    {
     "name": "stdout",
     "output_type": "stream",
     "text": [
      "3\n",
      "2\n",
      "1\n",
      "0\n"
     ]
    }
   ],
   "source": [
    "list = [3, 2, 1, 0]\n",
    "\n",
    "for i in list:\n",
    "    print(i)"
   ]
  },
  {
   "cell_type": "markdown",
   "id": "35be4d20",
   "metadata": {},
   "source": [
    "6.2 Assign the value 7 to the variable guess_me, and the value 1 to the variable number. Write a while loop that compares number with guess_me. Print 'too low' if number is less than guess me. If number equals guess_me, print 'found it!' and then exit the loop. If number is greater than guess_me, print 'oops' and then exit the loop. Increment number at the end of the loop."
   ]
  },
  {
   "cell_type": "code",
   "execution_count": 4,
   "id": "6b525c1c",
   "metadata": {},
   "outputs": [
    {
     "name": "stdout",
     "output_type": "stream",
     "text": [
      "Too Low!\n",
      "Too Low!\n",
      "Too Low!\n",
      "Too Low!\n",
      "Too Low!\n",
      "Too Low!\n",
      "Found it!\n"
     ]
    }
   ],
   "source": [
    "guess_me = 7\n",
    "number = 1\n",
    "\n",
    "while number <= guess_me:\n",
    "    if number == guess_me:\n",
    "        print(\"Found it!\")\n",
    "        break\n",
    "    elif number > guess_me:\n",
    "        print(\"Oops!\")\n",
    "        break\n",
    "    else:\n",
    "        print(\"Too Low!\")\n",
    "        number += 1"
   ]
  },
  {
   "cell_type": "markdown",
   "id": "e35b7205",
   "metadata": {},
   "source": [
    "6.3 Assign the value 5 to the variable guess_me. Use a for loop to iterate a variable called number over range(10). If number is less than guess_me, print 'too low'. If it equals guess_me, print found it! and then break out of the for loop. If number is greater than guess_me, print 'oops' and then exit the loop."
   ]
  },
  {
   "cell_type": "code",
   "execution_count": 5,
   "id": "a5df317f",
   "metadata": {},
   "outputs": [
    {
     "name": "stdout",
     "output_type": "stream",
     "text": [
      "Too Low!\n",
      "Too Low!\n",
      "Too Low!\n",
      "Too Low!\n",
      "Too Low!\n",
      "Found it!\n"
     ]
    }
   ],
   "source": [
    "guess_me = 5\n",
    "\n",
    "for i in range(10):\n",
    "    if i < guess_me:\n",
    "        print(\"Too Low!\")\n",
    "    elif i == guess_me:\n",
    "        print(\"Found it!\")\n",
    "        break\n",
    "    else:\n",
    "        print(\"Oops!\")\n",
    "        break"
   ]
  }
 ],
 "metadata": {
  "kernelspec": {
   "display_name": "Python 3 (ipykernel)",
   "language": "python",
   "name": "python3"
  },
  "language_info": {
   "codemirror_mode": {
    "name": "ipython",
    "version": 3
   },
   "file_extension": ".py",
   "mimetype": "text/x-python",
   "name": "python",
   "nbconvert_exporter": "python",
   "pygments_lexer": "ipython3",
   "version": "3.11.5"
  }
 },
 "nbformat": 4,
 "nbformat_minor": 5
}
